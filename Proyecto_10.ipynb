{
 "cells": [
  {
   "cell_type": "markdown",
   "metadata": {},
   "source": [
    "# Indice\n",
    "\n",
    "1. [Introducción](#titulo_principal)\n",
    "2. [Importación de librerías](#titulo_principal_1)\n",
    "3. [Preprocesado de datos](#titulo_principal_2)\n",
    "4. [Creación de los modelos](#titulo_principal_3)\n",
    "5. [Calculo de ganacias](#titulo_principal_4)\n",
    "6. [Función para calcular la ganancia de un conjunto de pozos de petróleo seleccionados](#titulo_principal_5)\n",
    "7. [Calculo de riesgo y ganacia para cada región](#titulo_principal_6)\n",
    "8. [Conclusión](#titulo_principal_7)"
   ]
  },
  {
   "cell_type": "markdown",
   "metadata": {},
   "source": [
    "## Introducción<a id=\"titulo_principal\"></a>"
   ]
  },
  {
   "cell_type": "markdown",
   "metadata": {},
   "source": [
    "Este proyecto se lleva a cabo en colaboración con la empresa petrolera OilyGiant, que busca abrir 200 nuevos pozos de petróleo. Utilizando los datos de tres regiones específicas, el objetivo es desarrollar un modelo predictivo que identifique los 200 pozos más rentables en cada región, ayudando así a determinar la viabilidad de cada área.\n",
    "\n",
    "El proceso se divide en varias etapas clave. En primer lugar, se realiza un exhaustivo procesamiento de datos para prepararlos adecuadamente para el modelado de regresión lineal. Luego, se entrena un modelo utilizando estos datos preparados, y se evalúa su desempeño calculando los beneficios potenciales y el Root Mean Square Error (RMSE) del modelo.\n",
    "\n",
    "Posteriormente, se emplea la técnica de Bootstrap para analizar si el modelo mejora su precisión. Este proceso implica generar múltiples muestras de los datos y calcular la distribución de los beneficios, lo que nos permite obtener una evaluación más robusta de la viabilidad de cada región.\n",
    "\n",
    "Finalmente, se selecciona la región más adecuada para el desarrollo de los nuevos pozos, comparando los resultados obtenidos antes y después de aplicar Bootstrap. Esta comparación nos proporciona una visión clara de cómo el proceso de bootstrapping puede influir en la elección de la región más rentable y viable para la empresa OilyGiant."
   ]
  },
  {
   "cell_type": "markdown",
   "metadata": {},
   "source": [
    "## Importación de librerias<a id=\"titulo_principal_1\"></a>"
   ]
  },
  {
   "cell_type": "code",
   "execution_count": 1,
   "metadata": {},
   "outputs": [],
   "source": [
    "import numpy as np\n",
    "import pandas as pd\n",
    "from sklearn.utils import resample\n",
    "from sklearn.linear_model import LinearRegression\n",
    "from sklearn.model_selection import train_test_split\n",
    "from sklearn.metrics import mean_squared_error"
   ]
  },
  {
   "cell_type": "code",
   "execution_count": 2,
   "metadata": {},
   "outputs": [],
   "source": [
    "# Carga del datasets\n",
    "\n",
    "df_0 = pd.read_csv('geo_data_0.csv')\n",
    "df_1 = pd.read_csv('geo_data_1.csv')\n",
    "df_2 = pd.read_csv('geo_data_2.csv')"
   ]
  },
  {
   "cell_type": "markdown",
   "metadata": {},
   "source": [
    "## Preprocesado de datos <a id=\"titulo_principal_2\"></a>"
   ]
  },
  {
   "cell_type": "markdown",
   "metadata": {},
   "source": [
    "### Analisis de 'df_0'"
   ]
  },
  {
   "cell_type": "code",
   "execution_count": 3,
   "metadata": {},
   "outputs": [
    {
     "name": "stdout",
     "output_type": "stream",
     "text": [
      "<class 'pandas.core.frame.DataFrame'>\n",
      "RangeIndex: 100000 entries, 0 to 99999\n",
      "Data columns (total 5 columns):\n",
      " #   Column   Non-Null Count   Dtype  \n",
      "---  ------   --------------   -----  \n",
      " 0   id       100000 non-null  object \n",
      " 1   f0       100000 non-null  float64\n",
      " 2   f1       100000 non-null  float64\n",
      " 3   f2       100000 non-null  float64\n",
      " 4   product  100000 non-null  float64\n",
      "dtypes: float64(4), object(1)\n",
      "memory usage: 3.8+ MB\n"
     ]
    }
   ],
   "source": [
    "df_0.info()"
   ]
  },
  {
   "cell_type": "code",
   "execution_count": 4,
   "metadata": {},
   "outputs": [
    {
     "data": {
      "text/html": [
       "<div>\n",
       "<style scoped>\n",
       "    .dataframe tbody tr th:only-of-type {\n",
       "        vertical-align: middle;\n",
       "    }\n",
       "\n",
       "    .dataframe tbody tr th {\n",
       "        vertical-align: top;\n",
       "    }\n",
       "\n",
       "    .dataframe thead th {\n",
       "        text-align: right;\n",
       "    }\n",
       "</style>\n",
       "<table border=\"1\" class=\"dataframe\">\n",
       "  <thead>\n",
       "    <tr style=\"text-align: right;\">\n",
       "      <th></th>\n",
       "      <th>f0</th>\n",
       "      <th>f1</th>\n",
       "      <th>f2</th>\n",
       "      <th>product</th>\n",
       "    </tr>\n",
       "  </thead>\n",
       "  <tbody>\n",
       "    <tr>\n",
       "      <th>count</th>\n",
       "      <td>100000.000000</td>\n",
       "      <td>100000.000000</td>\n",
       "      <td>100000.000000</td>\n",
       "      <td>100000.000000</td>\n",
       "    </tr>\n",
       "    <tr>\n",
       "      <th>mean</th>\n",
       "      <td>0.500419</td>\n",
       "      <td>0.250143</td>\n",
       "      <td>2.502647</td>\n",
       "      <td>92.500000</td>\n",
       "    </tr>\n",
       "    <tr>\n",
       "      <th>std</th>\n",
       "      <td>0.871832</td>\n",
       "      <td>0.504433</td>\n",
       "      <td>3.248248</td>\n",
       "      <td>44.288691</td>\n",
       "    </tr>\n",
       "    <tr>\n",
       "      <th>min</th>\n",
       "      <td>-1.408605</td>\n",
       "      <td>-0.848218</td>\n",
       "      <td>-12.088328</td>\n",
       "      <td>0.000000</td>\n",
       "    </tr>\n",
       "    <tr>\n",
       "      <th>25%</th>\n",
       "      <td>-0.072580</td>\n",
       "      <td>-0.200881</td>\n",
       "      <td>0.287748</td>\n",
       "      <td>56.497507</td>\n",
       "    </tr>\n",
       "    <tr>\n",
       "      <th>50%</th>\n",
       "      <td>0.502360</td>\n",
       "      <td>0.250252</td>\n",
       "      <td>2.515969</td>\n",
       "      <td>91.849972</td>\n",
       "    </tr>\n",
       "    <tr>\n",
       "      <th>75%</th>\n",
       "      <td>1.073581</td>\n",
       "      <td>0.700646</td>\n",
       "      <td>4.715088</td>\n",
       "      <td>128.564089</td>\n",
       "    </tr>\n",
       "    <tr>\n",
       "      <th>max</th>\n",
       "      <td>2.362331</td>\n",
       "      <td>1.343769</td>\n",
       "      <td>16.003790</td>\n",
       "      <td>185.364347</td>\n",
       "    </tr>\n",
       "  </tbody>\n",
       "</table>\n",
       "</div>"
      ],
      "text/plain": [
       "                  f0             f1             f2        product\n",
       "count  100000.000000  100000.000000  100000.000000  100000.000000\n",
       "mean        0.500419       0.250143       2.502647      92.500000\n",
       "std         0.871832       0.504433       3.248248      44.288691\n",
       "min        -1.408605      -0.848218     -12.088328       0.000000\n",
       "25%        -0.072580      -0.200881       0.287748      56.497507\n",
       "50%         0.502360       0.250252       2.515969      91.849972\n",
       "75%         1.073581       0.700646       4.715088     128.564089\n",
       "max         2.362331       1.343769      16.003790     185.364347"
      ]
     },
     "execution_count": 4,
     "metadata": {},
     "output_type": "execute_result"
    }
   ],
   "source": [
    "df_0.describe()"
   ]
  },
  {
   "cell_type": "code",
   "execution_count": 5,
   "metadata": {},
   "outputs": [
    {
     "data": {
      "text/plain": [
       "0"
      ]
     },
     "execution_count": 5,
     "metadata": {},
     "output_type": "execute_result"
    }
   ],
   "source": [
    "df_0.duplicated().sum()"
   ]
  },
  {
   "cell_type": "markdown",
   "metadata": {},
   "source": [
    "### Analisis de 'df_1'"
   ]
  },
  {
   "cell_type": "code",
   "execution_count": 6,
   "metadata": {},
   "outputs": [
    {
     "name": "stdout",
     "output_type": "stream",
     "text": [
      "<class 'pandas.core.frame.DataFrame'>\n",
      "RangeIndex: 100000 entries, 0 to 99999\n",
      "Data columns (total 5 columns):\n",
      " #   Column   Non-Null Count   Dtype  \n",
      "---  ------   --------------   -----  \n",
      " 0   id       100000 non-null  object \n",
      " 1   f0       100000 non-null  float64\n",
      " 2   f1       100000 non-null  float64\n",
      " 3   f2       100000 non-null  float64\n",
      " 4   product  100000 non-null  float64\n",
      "dtypes: float64(4), object(1)\n",
      "memory usage: 3.8+ MB\n"
     ]
    }
   ],
   "source": [
    "df_1.info()"
   ]
  },
  {
   "cell_type": "code",
   "execution_count": 7,
   "metadata": {},
   "outputs": [
    {
     "data": {
      "text/html": [
       "<div>\n",
       "<style scoped>\n",
       "    .dataframe tbody tr th:only-of-type {\n",
       "        vertical-align: middle;\n",
       "    }\n",
       "\n",
       "    .dataframe tbody tr th {\n",
       "        vertical-align: top;\n",
       "    }\n",
       "\n",
       "    .dataframe thead th {\n",
       "        text-align: right;\n",
       "    }\n",
       "</style>\n",
       "<table border=\"1\" class=\"dataframe\">\n",
       "  <thead>\n",
       "    <tr style=\"text-align: right;\">\n",
       "      <th></th>\n",
       "      <th>f0</th>\n",
       "      <th>f1</th>\n",
       "      <th>f2</th>\n",
       "      <th>product</th>\n",
       "    </tr>\n",
       "  </thead>\n",
       "  <tbody>\n",
       "    <tr>\n",
       "      <th>count</th>\n",
       "      <td>100000.000000</td>\n",
       "      <td>100000.000000</td>\n",
       "      <td>100000.000000</td>\n",
       "      <td>100000.000000</td>\n",
       "    </tr>\n",
       "    <tr>\n",
       "      <th>mean</th>\n",
       "      <td>1.141296</td>\n",
       "      <td>-4.796579</td>\n",
       "      <td>2.494541</td>\n",
       "      <td>68.825000</td>\n",
       "    </tr>\n",
       "    <tr>\n",
       "      <th>std</th>\n",
       "      <td>8.965932</td>\n",
       "      <td>5.119872</td>\n",
       "      <td>1.703572</td>\n",
       "      <td>45.944423</td>\n",
       "    </tr>\n",
       "    <tr>\n",
       "      <th>min</th>\n",
       "      <td>-31.609576</td>\n",
       "      <td>-26.358598</td>\n",
       "      <td>-0.018144</td>\n",
       "      <td>0.000000</td>\n",
       "    </tr>\n",
       "    <tr>\n",
       "      <th>25%</th>\n",
       "      <td>-6.298551</td>\n",
       "      <td>-8.267985</td>\n",
       "      <td>1.000021</td>\n",
       "      <td>26.953261</td>\n",
       "    </tr>\n",
       "    <tr>\n",
       "      <th>50%</th>\n",
       "      <td>1.153055</td>\n",
       "      <td>-4.813172</td>\n",
       "      <td>2.011479</td>\n",
       "      <td>57.085625</td>\n",
       "    </tr>\n",
       "    <tr>\n",
       "      <th>75%</th>\n",
       "      <td>8.621015</td>\n",
       "      <td>-1.332816</td>\n",
       "      <td>3.999904</td>\n",
       "      <td>107.813044</td>\n",
       "    </tr>\n",
       "    <tr>\n",
       "      <th>max</th>\n",
       "      <td>29.421755</td>\n",
       "      <td>18.734063</td>\n",
       "      <td>5.019721</td>\n",
       "      <td>137.945408</td>\n",
       "    </tr>\n",
       "  </tbody>\n",
       "</table>\n",
       "</div>"
      ],
      "text/plain": [
       "                  f0             f1             f2        product\n",
       "count  100000.000000  100000.000000  100000.000000  100000.000000\n",
       "mean        1.141296      -4.796579       2.494541      68.825000\n",
       "std         8.965932       5.119872       1.703572      45.944423\n",
       "min       -31.609576     -26.358598      -0.018144       0.000000\n",
       "25%        -6.298551      -8.267985       1.000021      26.953261\n",
       "50%         1.153055      -4.813172       2.011479      57.085625\n",
       "75%         8.621015      -1.332816       3.999904     107.813044\n",
       "max        29.421755      18.734063       5.019721     137.945408"
      ]
     },
     "execution_count": 7,
     "metadata": {},
     "output_type": "execute_result"
    }
   ],
   "source": [
    "df_1.describe()"
   ]
  },
  {
   "cell_type": "code",
   "execution_count": 8,
   "metadata": {},
   "outputs": [
    {
     "data": {
      "text/plain": [
       "0"
      ]
     },
     "execution_count": 8,
     "metadata": {},
     "output_type": "execute_result"
    }
   ],
   "source": [
    "df_1.duplicated().sum()"
   ]
  },
  {
   "cell_type": "markdown",
   "metadata": {},
   "source": [
    "### Analisis de 'df_2'"
   ]
  },
  {
   "cell_type": "code",
   "execution_count": 9,
   "metadata": {},
   "outputs": [
    {
     "name": "stdout",
     "output_type": "stream",
     "text": [
      "<class 'pandas.core.frame.DataFrame'>\n",
      "RangeIndex: 100000 entries, 0 to 99999\n",
      "Data columns (total 5 columns):\n",
      " #   Column   Non-Null Count   Dtype  \n",
      "---  ------   --------------   -----  \n",
      " 0   id       100000 non-null  object \n",
      " 1   f0       100000 non-null  float64\n",
      " 2   f1       100000 non-null  float64\n",
      " 3   f2       100000 non-null  float64\n",
      " 4   product  100000 non-null  float64\n",
      "dtypes: float64(4), object(1)\n",
      "memory usage: 3.8+ MB\n"
     ]
    }
   ],
   "source": [
    "df_2.info()"
   ]
  },
  {
   "cell_type": "code",
   "execution_count": 10,
   "metadata": {},
   "outputs": [
    {
     "data": {
      "text/html": [
       "<div>\n",
       "<style scoped>\n",
       "    .dataframe tbody tr th:only-of-type {\n",
       "        vertical-align: middle;\n",
       "    }\n",
       "\n",
       "    .dataframe tbody tr th {\n",
       "        vertical-align: top;\n",
       "    }\n",
       "\n",
       "    .dataframe thead th {\n",
       "        text-align: right;\n",
       "    }\n",
       "</style>\n",
       "<table border=\"1\" class=\"dataframe\">\n",
       "  <thead>\n",
       "    <tr style=\"text-align: right;\">\n",
       "      <th></th>\n",
       "      <th>f0</th>\n",
       "      <th>f1</th>\n",
       "      <th>f2</th>\n",
       "      <th>product</th>\n",
       "    </tr>\n",
       "  </thead>\n",
       "  <tbody>\n",
       "    <tr>\n",
       "      <th>count</th>\n",
       "      <td>100000.000000</td>\n",
       "      <td>100000.000000</td>\n",
       "      <td>100000.000000</td>\n",
       "      <td>100000.000000</td>\n",
       "    </tr>\n",
       "    <tr>\n",
       "      <th>mean</th>\n",
       "      <td>0.002023</td>\n",
       "      <td>-0.002081</td>\n",
       "      <td>2.495128</td>\n",
       "      <td>95.000000</td>\n",
       "    </tr>\n",
       "    <tr>\n",
       "      <th>std</th>\n",
       "      <td>1.732045</td>\n",
       "      <td>1.730417</td>\n",
       "      <td>3.473445</td>\n",
       "      <td>44.749921</td>\n",
       "    </tr>\n",
       "    <tr>\n",
       "      <th>min</th>\n",
       "      <td>-8.760004</td>\n",
       "      <td>-7.084020</td>\n",
       "      <td>-11.970335</td>\n",
       "      <td>0.000000</td>\n",
       "    </tr>\n",
       "    <tr>\n",
       "      <th>25%</th>\n",
       "      <td>-1.162288</td>\n",
       "      <td>-1.174820</td>\n",
       "      <td>0.130359</td>\n",
       "      <td>59.450441</td>\n",
       "    </tr>\n",
       "    <tr>\n",
       "      <th>50%</th>\n",
       "      <td>0.009424</td>\n",
       "      <td>-0.009482</td>\n",
       "      <td>2.484236</td>\n",
       "      <td>94.925613</td>\n",
       "    </tr>\n",
       "    <tr>\n",
       "      <th>75%</th>\n",
       "      <td>1.158535</td>\n",
       "      <td>1.163678</td>\n",
       "      <td>4.858794</td>\n",
       "      <td>130.595027</td>\n",
       "    </tr>\n",
       "    <tr>\n",
       "      <th>max</th>\n",
       "      <td>7.238262</td>\n",
       "      <td>7.844801</td>\n",
       "      <td>16.739402</td>\n",
       "      <td>190.029838</td>\n",
       "    </tr>\n",
       "  </tbody>\n",
       "</table>\n",
       "</div>"
      ],
      "text/plain": [
       "                  f0             f1             f2        product\n",
       "count  100000.000000  100000.000000  100000.000000  100000.000000\n",
       "mean        0.002023      -0.002081       2.495128      95.000000\n",
       "std         1.732045       1.730417       3.473445      44.749921\n",
       "min        -8.760004      -7.084020     -11.970335       0.000000\n",
       "25%        -1.162288      -1.174820       0.130359      59.450441\n",
       "50%         0.009424      -0.009482       2.484236      94.925613\n",
       "75%         1.158535       1.163678       4.858794     130.595027\n",
       "max         7.238262       7.844801      16.739402     190.029838"
      ]
     },
     "execution_count": 10,
     "metadata": {},
     "output_type": "execute_result"
    }
   ],
   "source": [
    "df_2.describe()"
   ]
  },
  {
   "cell_type": "code",
   "execution_count": 11,
   "metadata": {},
   "outputs": [
    {
     "data": {
      "text/plain": [
       "0"
      ]
     },
     "execution_count": 11,
     "metadata": {},
     "output_type": "execute_result"
    }
   ],
   "source": [
    "df_2.duplicated().sum()"
   ]
  },
  {
   "cell_type": "code",
   "execution_count": 12,
   "metadata": {},
   "outputs": [
    {
     "data": {
      "text/plain": [
       "id\n",
       "fiKDv    2\n",
       "QcMuo    2\n",
       "AGS9W    2\n",
       "Tdehs    2\n",
       "74z30    2\n",
       "        ..\n",
       "x8osI    1\n",
       "gZ7tR    1\n",
       "Zw8hj    1\n",
       "zcrQO    1\n",
       "1CWhH    1\n",
       "Name: count, Length: 99990, dtype: int64"
      ]
     },
     "execution_count": 12,
     "metadata": {},
     "output_type": "execute_result"
    }
   ],
   "source": [
    "df_0['id'].value_counts()"
   ]
  },
  {
   "cell_type": "markdown",
   "metadata": {},
   "source": [
    "Veo que los 3 datasets contienen toda su información completa (no hay datos nulos) y las columnas de tipos de datos del trio de dataset estan bien. Además, las caracteristica f0, f1 y f2, son significativas pues no se deben de escalar entoces los datos estan listo para crear el modelo, la columna de ids, sera removida pues no aporta información valiosa para la finalidad del modelo."
   ]
  },
  {
   "cell_type": "code",
   "execution_count": 13,
   "metadata": {},
   "outputs": [],
   "source": [
    "# División del dataset en features y targets\n",
    "\n",
    "features_0 = df_0.drop(['id','product'], axis=1)\n",
    "features_1 = df_1.drop(['id','product'], axis=1)\n",
    "features_2 = df_2.drop(['id','product'], axis=1)\n",
    "\n",
    "targets_0 = df_0['product']\n",
    "targets_1 = df_1['product']\n",
    "targets_2 = df_2['product']\n"
   ]
  },
  {
   "cell_type": "code",
   "execution_count": 14,
   "metadata": {},
   "outputs": [],
   "source": [
    "# División del dataset en entrenamiento y validación\n",
    "\n",
    "features_train_0, features_valid_0, targets_train_0, targets_valid_0 = train_test_split(features_0, targets_0, test_size=0.25, random_state=12345)\n",
    "features_train_0, features_valid_1, targets_train_1, targets_valid_1 = train_test_split(features_1, targets_1, test_size=0.25, random_state=12345)\n",
    "features_train_0, features_valid_2, targets_train_2, targets_valid_2 = train_test_split(features_2, targets_2, test_size=0.25, random_state=12345)\n"
   ]
  },
  {
   "cell_type": "markdown",
   "metadata": {},
   "source": [
    "##  Creación de los modelos <a id=\"titulo_principal_3\"></a>\n",
    "\n",
    "Para su creación utilizare un regresión lineal"
   ]
  },
  {
   "cell_type": "code",
   "execution_count": 15,
   "metadata": {},
   "outputs": [],
   "source": [
    "def Model_Petro(features, targets, features_valid, targets_valid):\n",
    "    # Inicializa y entrena el modelo de regresión lineal\n",
    "    model = LinearRegression()\n",
    "    model.fit(features, targets)\n",
    "\n",
    "    # Realiza predicciones sobre el conjunto de validación\n",
    "    predictions = model.predict(features_valid)\n",
    "\n",
    "    # Calcula la media de las predicciones\n",
    "    mean_pred = np.mean(predictions)\n",
    "    \n",
    "    # Calcula el RMSE\n",
    "    rmse = np.sqrt(mean_squared_error(targets_valid, predictions))\n",
    "    \n",
    "    # Imprime los resultados\n",
    "    print('La media de las predicciones es:', mean_pred)\n",
    "    print('El RMSE del modelo es:', rmse)\n",
    "    \n",
    "    return mean_pred, rmse, predictions\n",
    "\n",
    "\n"
   ]
  },
  {
   "cell_type": "markdown",
   "metadata": {},
   "source": [
    "### 'df_0'"
   ]
  },
  {
   "cell_type": "code",
   "execution_count": 16,
   "metadata": {},
   "outputs": [
    {
     "name": "stdout",
     "output_type": "stream",
     "text": [
      "La media de las predicciones es: 92.46564781325566\n",
      "El RMSE del modelo es: 37.57547919032473\n"
     ]
    }
   ],
   "source": [
    "mean_pred_0, rmse_0, predictions_0 = Model_Petro(features_0, targets_0, features_valid_0, targets_valid_0)"
   ]
  },
  {
   "cell_type": "code",
   "execution_count": 17,
   "metadata": {},
   "outputs": [
    {
     "data": {
      "text/plain": [
       "count    25000.000000\n",
       "mean        92.078597\n",
       "std         44.286913\n",
       "min          0.004022\n",
       "25%         56.059494\n",
       "50%         90.897664\n",
       "75%        128.160698\n",
       "max        185.315412\n",
       "Name: product, dtype: float64"
      ]
     },
     "execution_count": 17,
     "metadata": {},
     "output_type": "execute_result"
    }
   ],
   "source": [
    "targets_valid_0.describe()"
   ]
  },
  {
   "cell_type": "markdown",
   "metadata": {},
   "source": [
    "Puedo observar que el modelo hizo un buen trabajo a la hora de predecir la media de los promedios de los volumenes de reservas reales del conjunto de validación, sin embargo el RMSE es alto debido a que representa alrededor del 80% de la desviación estandar de los targets de validación"
   ]
  },
  {
   "cell_type": "markdown",
   "metadata": {},
   "source": [
    "### 'df_1'"
   ]
  },
  {
   "cell_type": "code",
   "execution_count": 18,
   "metadata": {},
   "outputs": [
    {
     "name": "stdout",
     "output_type": "stream",
     "text": [
      "La media de las predicciones es: 68.72718652381816\n",
      "El RMSE del modelo es: 0.8930685055287836\n"
     ]
    }
   ],
   "source": [
    "mean_pred_1, rmse_1, predictions_1 = Model_Petro(features_1, targets_1, features_valid_1, targets_valid_1)"
   ]
  },
  {
   "cell_type": "code",
   "execution_count": 19,
   "metadata": {},
   "outputs": [
    {
     "data": {
      "text/plain": [
       "count    25000.000000\n",
       "mean        68.723136\n",
       "std         46.022165\n",
       "min          0.000000\n",
       "25%         26.953261\n",
       "50%         57.085625\n",
       "75%        107.813044\n",
       "max        137.945408\n",
       "Name: product, dtype: float64"
      ]
     },
     "execution_count": 19,
     "metadata": {},
     "output_type": "execute_result"
    }
   ],
   "source": [
    "targets_valid_1.describe()"
   ]
  },
  {
   "cell_type": "markdown",
   "metadata": {},
   "source": [
    "En el caso de la zona geografica numero 1 veo que el RMSE es muy bajo y la media de las predicciones muy acorde a la media de los targets reales "
   ]
  },
  {
   "cell_type": "markdown",
   "metadata": {},
   "source": [
    "### 'df_2'"
   ]
  },
  {
   "cell_type": "code",
   "execution_count": 20,
   "metadata": {},
   "outputs": [
    {
     "name": "stdout",
     "output_type": "stream",
     "text": [
      "La media de las predicciones es: 94.94513027263157\n",
      "El RMSE del modelo es: 40.026749644748875\n"
     ]
    }
   ],
   "source": [
    "mean_pred_2, rmse_2, predictions_2 = Model_Petro(features_2, targets_2, features_valid_2, targets_valid_2)"
   ]
  },
  {
   "cell_type": "code",
   "execution_count": 21,
   "metadata": {},
   "outputs": [
    {
     "data": {
      "text/plain": [
       "count    25000.000000\n",
       "mean        94.884233\n",
       "std         44.902982\n",
       "min          0.000000\n",
       "25%         59.217876\n",
       "50%         94.979468\n",
       "75%        130.568416\n",
       "max        190.010982\n",
       "Name: product, dtype: float64"
      ]
     },
     "execution_count": 21,
     "metadata": {},
     "output_type": "execute_result"
    }
   ],
   "source": [
    "targets_valid_2.describe()"
   ]
  },
  {
   "cell_type": "markdown",
   "metadata": {},
   "source": [
    "En este ulimo caso de los datos de la zona geografica 2 veo que el RMSE es extremadamente alto pues es mas de un 90% del valor de la desviación estandar, sin embargo al igual que en las otras 2 zonas, la media de las predicciónes salió muy acorde a la real de los targets verdaderos"
   ]
  },
  {
   "cell_type": "markdown",
   "metadata": {},
   "source": [
    "## Calculo de ganancias <a id=\"titulo_principal_4\"></a>"
   ]
  },
  {
   "cell_type": "markdown",
   "metadata": {},
   "source": [
    "A continuacón realizare una función que primeramente tome rsme, media y las demás varibales de inversión que pide la empresa y calcularemos si la zona cumple con el umbral dado "
   ]
  },
  {
   "cell_type": "code",
   "execution_count": 22,
   "metadata": {},
   "outputs": [],
   "source": [
    "def Invest_worth(rmse, mean_pred, invest=100000000, wells=200):\n",
    "    \n",
    "     price_per_unit = invest / wells / 500000\n",
    "     threshold_units = 111.1\n",
    "     \n",
    "     if mean_pred >= threshold_units:\n",
    "         print('La cantidad media de reservas es suficiente para evitar pérdidas.')\n",
    "     else:\n",
    "         print('La cantidad media de reservas no es suficiente para evitar pérdidas.')\n",
    "         \n",
    "def presentar_conclusiones(mean_pred, threshold_units):\n",
    "    print(f\"El volumen medio de reservas predicho es de {mean_pred:.2f} unidades.\")\n",
    "    print(f\"Para evitar pérdidas, cada pozo debe producir al menos {threshold_units:.2f} unidades en promedio.\")\n",
    "    if mean_pred >= threshold_units:\n",
    "        print(\"Con base en las predicciones, es probable que la inversión sea rentable.\")\n",
    "    else:\n",
    "        print(\"Con base en las predicciones, es probable que la inversión no sea rentable.\")\n",
    "\n",
    "     \n",
    "    \n",
    "\n",
    "    "
   ]
  },
  {
   "cell_type": "markdown",
   "metadata": {},
   "source": [
    "### 'df_0'"
   ]
  },
  {
   "cell_type": "code",
   "execution_count": 23,
   "metadata": {},
   "outputs": [
    {
     "name": "stdout",
     "output_type": "stream",
     "text": [
      "La cantidad media de reservas no es suficiente para evitar pérdidas.\n",
      "El volumen medio de reservas predicho es de 92.47 unidades.\n",
      "Para evitar pérdidas, cada pozo debe producir al menos 111.10 unidades en promedio.\n",
      "Con base en las predicciones, es probable que la inversión no sea rentable.\n"
     ]
    }
   ],
   "source": [
    "Invest_worth(rmse_0, mean_pred_0)\n",
    "\n",
    "presentar_conclusiones(mean_pred_0, 111.1)"
   ]
  },
  {
   "cell_type": "markdown",
   "metadata": {},
   "source": [
    "### 'df_1'"
   ]
  },
  {
   "cell_type": "code",
   "execution_count": 24,
   "metadata": {},
   "outputs": [
    {
     "name": "stdout",
     "output_type": "stream",
     "text": [
      "La cantidad media de reservas no es suficiente para evitar pérdidas.\n",
      "El volumen medio de reservas predicho es de 68.73 unidades.\n",
      "Para evitar pérdidas, cada pozo debe producir al menos 111.10 unidades en promedio.\n",
      "Con base en las predicciones, es probable que la inversión no sea rentable.\n"
     ]
    }
   ],
   "source": [
    "Invest_worth(rmse_1, mean_pred_1)\n",
    "\n",
    "presentar_conclusiones(mean_pred_1, 111.1)"
   ]
  },
  {
   "cell_type": "markdown",
   "metadata": {},
   "source": [
    "### 'df_2'"
   ]
  },
  {
   "cell_type": "code",
   "execution_count": 25,
   "metadata": {},
   "outputs": [
    {
     "name": "stdout",
     "output_type": "stream",
     "text": [
      "La cantidad media de reservas no es suficiente para evitar pérdidas.\n",
      "El volumen medio de reservas predicho es de 94.95 unidades.\n",
      "Para evitar pérdidas, cada pozo debe producir al menos 111.10 unidades en promedio.\n",
      "Con base en las predicciones, es probable que la inversión no sea rentable.\n"
     ]
    }
   ],
   "source": [
    "Invest_worth(rmse_2, mean_pred_2)\n",
    "\n",
    "presentar_conclusiones(mean_pred_2, 111.1)"
   ]
  },
  {
   "cell_type": "markdown",
   "metadata": {},
   "source": [
    "Basandonos en los resultados podemos ver que si aleatoriamente elegimos 200 pozos en cualquiera de las zonas, la media no se acerca al umbral de profit que requiere la empresa petrolera para poder generar ganancias, por lo tanto se deben de tomar otras estrategias para elegir correctamente la zona para que supere ese umbral"
   ]
  },
  {
   "cell_type": "markdown",
   "metadata": {},
   "source": [
    "## Función para calcular la ganancia de un conjunto de pozos de petróleo seleccionados <a id=\"titulo_principal_5\"></a>"
   ]
  },
  {
   "cell_type": "code",
   "execution_count": 26,
   "metadata": {},
   "outputs": [],
   "source": [
    "def select_top_200_pozos(predictions, targets):\n",
    "    data = pd.DataFrame({'predictions': predictions, 'targets': targets})\n",
    "    top_200 = data.nlargest(200, 'predictions')\n",
    "    return top_200\n",
    "\n",
    "def calculate_gain(top_200_pozos):\n",
    "    revenue_per_unit = 500000 / 111.1\n",
    "    total_revenue = top_200_pozos['targets'].sum() * revenue_per_unit\n",
    "    investment_cost = 100000000\n",
    "    profit = total_revenue - investment_cost\n",
    "    return profit"
   ]
  },
  {
   "cell_type": "code",
   "execution_count": 27,
   "metadata": {},
   "outputs": [],
   "source": [
    "# Funciones en la zona 0\n",
    "\n",
    "top_200_0 = select_top_200_pozos(predictions_0, targets_valid_0)\n",
    "profit_0 = calculate_gain(top_200_0)\n",
    "\n"
   ]
  },
  {
   "cell_type": "code",
   "execution_count": 28,
   "metadata": {},
   "outputs": [],
   "source": [
    "# Funciones en la zona 1\n",
    "\n",
    "top_200_1 = select_top_200_pozos(predictions_1, targets_valid_1)\n",
    "profit_1 = calculate_gain(top_200_1)\n",
    "\n"
   ]
  },
  {
   "cell_type": "code",
   "execution_count": 29,
   "metadata": {},
   "outputs": [],
   "source": [
    "# Funciones en la zona 2\n",
    "\n",
    "top_200_2 = select_top_200_pozos(predictions_2, targets_valid_2)\n",
    "profit_2 = calculate_gain(top_200_2)\n"
   ]
  },
  {
   "cell_type": "code",
   "execution_count": 30,
   "metadata": {},
   "outputs": [
    {
     "name": "stdout",
     "output_type": "stream",
     "text": [
      "Ganancia potencial para la región 0: 33221582.589657485\n",
      "Ganancia potencial para la región 1: 24163283.295144632\n",
      "Ganancia potencial para la región 2: 27336645.095843896\n",
      "\n",
      "Se recomienda desarrollar pozos en la región 0.\n"
     ]
    }
   ],
   "source": [
    "# Imprimir las ganancias potenciales\n",
    "print('Ganancia potencial para la región 0:', profit_0)\n",
    "print('Ganancia potencial para la región 1:', profit_1)\n",
    "print('Ganancia potencial para la región 2:', profit_2)\n",
    "\n",
    "\n",
    "print()\n",
    "# Proponer una región para el desarrollo de pozos petrolíferos\n",
    "if profit_0 > profit_1 and profit_0 > profit_2:\n",
    "    print(\"Se recomienda desarrollar pozos en la región 0.\")\n",
    "elif profit_1 > profit_0 and profit_1 > profit_2:\n",
    "    print(\"Se recomienda desarrollar pozos en la región 1.\")\n",
    "else:\n",
    "    print(\"Se recomienda desarrollar pozos en la región 2.\")"
   ]
  },
  {
   "cell_type": "markdown",
   "metadata": {},
   "source": [
    "Se puede observar que la región 0 fue la que más profit genero, al menos para las predicciones que se generaron a partir de los top 200 pozos con mas profit de cada región"
   ]
  },
  {
   "cell_type": "markdown",
   "metadata": {},
   "source": [
    "## Calculo de riesgo y ganacia para cada región <a id=\"titulo_principal_6\"></a>"
   ]
  },
  {
   "cell_type": "code",
   "execution_count": 31,
   "metadata": {},
   "outputs": [],
   "source": [
    "def top_200(predictions, targets):\n",
    "    # Convertir a arrays de numpy en caso de que no lo sean\n",
    "    targets = np.asarray(targets)\n",
    "    predictions = np.asarray(predictions)\n",
    "    \n",
    "    sorted_indices = np.argsort(predictions)[::-1]\n",
    "    top_200_indices = sorted_indices[:200]\n",
    "    selected_predictions = predictions[top_200_indices]\n",
    "    selected_targets = targets[top_200_indices]\n",
    "    \n",
    "    return selected_predictions, selected_targets  \n",
    "\n",
    "def bootstrap_profit(predictions, targets, n_iterations=1000, sample_size=500, investment_cost=100000000, revenue_per_unit=4500):\n",
    "    state = np.random.RandomState(12345)\n",
    "    profits = []\n",
    "    for i in range(n_iterations):\n",
    "        # Tomar una muestra bootstrap de las predicciones y targets\n",
    "        sample_predictions, sample_targets = resample(predictions, targets, n_samples=sample_size, random_state=state)\n",
    "        \n",
    "        # Seleccionar los 200 mejores pozos de las muestras\n",
    "        _, sample_top_targets = top_200(sample_predictions, sample_targets)\n",
    "        \n",
    "        # Calcular el beneficio total para esta muestra\n",
    "        total_revenue = sample_top_targets.sum() * revenue_per_unit\n",
    "        profit = total_revenue - investment_cost\n",
    "        profits.append(profit)\n",
    "        \n",
    "    \n",
    "    \n",
    "    # Convertir los beneficios a un array de numpy\n",
    "    profits = np.array(profits)\n",
    "    \n",
    "    # Calcular el beneficio promedio\n",
    "    avg_profit = profits.mean()\n",
    "    \n",
    "    # Calcular el intervalo de confianza del 95%\n",
    "    conf_interval = np.percentile(profits, [2.5, 97.5])\n",
    "    \n",
    "    # Calcular el riesgo de pérdidas (beneficio negativo)\n",
    "    risk_of_loss = (profits < 0).mean() * 100  # Como porcentaje\n",
    "    \n",
    "    return avg_profit, conf_interval, risk_of_loss\n",
    "\n",
    "# Uso de funciones\n",
    "avg_profit_0, conf_interval_0, risk_of_loss_0 = bootstrap_profit(predictions_0, targets_valid_0)\n",
    "avg_profit_1, conf_interval_1, risk_of_loss_1 = bootstrap_profit(predictions_1, targets_valid_1)\n",
    "avg_profit_2, conf_interval_2, risk_of_loss_2 = bootstrap_profit(predictions_2, targets_valid_2)"
   ]
  },
  {
   "cell_type": "code",
   "execution_count": 32,
   "metadata": {},
   "outputs": [
    {
     "name": "stdout",
     "output_type": "stream",
     "text": [
      "Región 0: Beneficio promedio = 3964927.666096237 , IC 95% = [-1088816.18926101  9138435.96291906] , Riesgo de pérdidas = 6.4 %\n",
      "Región 1: Beneficio promedio = 4560451.057866608 , IC 95% = [ 338205.09398985 8522894.53866035] , Riesgo de pérdidas = 1.5 %\n",
      "Región 2: Beneficio promedio = 4053867.734904668 , IC 95% = [-1680474.36516634  9519024.87781419] , Riesgo de pérdidas = 7.8 %\n"
     ]
    }
   ],
   "source": [
    "# Imprimir los resultados\n",
    "print(\"Región 0: Beneficio promedio =\", avg_profit_0, \", IC 95% =\", conf_interval_0, \", Riesgo de pérdidas =\", risk_of_loss_0, \"%\")\n",
    "print(\"Región 1: Beneficio promedio =\", avg_profit_1, \", IC 95% =\", conf_interval_1, \", Riesgo de pérdidas =\", risk_of_loss_1, \"%\")\n",
    "print(\"Región 2: Beneficio promedio =\", avg_profit_2, \", IC 95% =\", conf_interval_2, \", Riesgo de pérdidas =\", risk_of_loss_2, \"%\")\n"
   ]
  },
  {
   "cell_type": "code",
   "execution_count": 33,
   "metadata": {},
   "outputs": [
    {
     "name": "stdout",
     "output_type": "stream",
     "text": [
      "Se recomienda desarrollar pozos en la Región 1\n"
     ]
    }
   ],
   "source": [
    "# Proponer una región para el desarrollo de pozos petrolíferos\n",
    "best_region = np.argmax([avg_profit_0, avg_profit_1, avg_profit_2])\n",
    "regions = [\"Región 0\", \"Región 1\", \"Región 2\"]\n",
    "print(\"Se recomienda desarrollar pozos en la\", regions[best_region])"
   ]
  },
  {
   "cell_type": "markdown",
   "metadata": {},
   "source": [
    "Viendo los resultados y comparandolos despues de hacer un boostrap para mejorar la toma de desiciones vemos que teniamos previamente esto:\n",
    "\n",
    "Ganancia potencial para la región 0: 33221582.589657485\n",
    "Ganancia potencial para la región 1: 24163283.295144632\n",
    "Ganancia potencial para la región 2: 27336645.095843896\n",
    "\n",
    "Se recomienda desarrollar pozos en la región 0.\n",
    "\n",
    "Para pasar a:\n",
    "\n",
    "    Región 0: Beneficio promedio = 3964927.666096237 , IC 95% = [-1088816.18926101  9138435.96291906] , Riesgo de pérdidas = 6.4 %\n",
    "    Región 1: Beneficio promedio = 4560451.057866608 , IC 95% = [ 338205.09398985 8522894.53866035] , Riesgo de pérdidas = 1.5 %\n",
    "    Región 2: Beneficio promedio = 4053867.734904668 , IC 95% = [-1680474.36516634  9519024.87781419] , Riesgo de pérdidas = 7.8 %\n",
    "\n",
    "Se recomienda desarrollar pozos en la Región 1\n",
    "\n",
    "Vemos que haciendo un Bootstrap de 1000 iteraciones con 500 pozos y de esos 500 pozos se escogen las 200 mejores predicciones para hacer el calculo del beneficio, la Región 1 es la que menor riesgo tiene con un 1.5% de riesgos de perdida. Además podemos observar que la región 1 en el intervalo de confianza es el intervalo menos amplio, lo que da un punto extra, además es el unico intervalo que no tiene como banda baja perdidas IC 95% = [ 338205.09398985 8522894.53866035]. \n"
   ]
  },
  {
   "cell_type": "code",
   "execution_count": null,
   "metadata": {},
   "outputs": [],
   "source": []
  },
  {
   "cell_type": "markdown",
   "metadata": {},
   "source": [
    "## Conclusión <a id=\"titulo_principal_7\"></a>\n",
    "\n",
    "En este proyecto se determinaron los siguientes puntos:\n",
    "\n",
    "- **Procesado de dtos**: se realizo un analisis de lso 3 datasets para determianr si había filas duplicadas, datos nulos o alguna columna sin su tipo de dato bien asignado\n",
    "- **Creación de modelo**: Se realizo un modelo de regresión lineal para predecir nuestra variable target (`product` — volumen de reservas en el pozo de petróleo (miles de barriles).) a partir de 3 caracteristicas de los puntos\n",
    "- **Función**: Se creo una función para poder calcular la ganacia para cierto conjunto de pozos\n",
    "-**Calculo de riesgo**: En este apartado se realizo una bootstrap para mejorar la presición del beneficio promedio por zona, se calculo el riesgo de perdidas economicas y además se calculo un intervalo de confianza del 95% para cada región \n",
    "\n",
    "\n",
    "Al final se concluyo que la mejor zona, es la zona gegrafica 1 pues es la región que mejor profit dio y la única que cumple con la condición de que haya menos de un 2.5% de riesgo de perdidas.\n",
    "\n"
   ]
  }
 ],
 "metadata": {
  "kernelspec": {
   "display_name": "Python 3",
   "language": "python",
   "name": "python3"
  },
  "language_info": {
   "codemirror_mode": {
    "name": "ipython",
    "version": 3
   },
   "file_extension": ".py",
   "mimetype": "text/x-python",
   "name": "python",
   "nbconvert_exporter": "python",
   "pygments_lexer": "ipython3",
   "version": "3.12.3"
  }
 },
 "nbformat": 4,
 "nbformat_minor": 2
}
